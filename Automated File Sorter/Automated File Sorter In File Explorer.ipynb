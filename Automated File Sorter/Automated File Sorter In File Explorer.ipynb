{
 "cells": [
  {
   "cell_type": "markdown",
   "id": "544b77e0-eae0-44d8-bdb2-a05713cb6555",
   "metadata": {},
   "source": [
    "# Automated File Sorter In File Explorer"
   ]
  },
  {
   "cell_type": "code",
   "execution_count": 1,
   "id": "c61dbb65-2f28-4aa6-b839-0fda2be4af48",
   "metadata": {},
   "outputs": [],
   "source": [
    "import os, shutil"
   ]
  },
  {
   "cell_type": "code",
   "execution_count": 4,
   "id": "dca88169-555f-496d-8707-bcc30e0816e7",
   "metadata": {},
   "outputs": [],
   "source": [
    "path = r\"D:/Programming/Alex The Analyst/Python/Automated File Sorter/\""
   ]
  },
  {
   "cell_type": "code",
   "execution_count": 10,
   "id": "aea53368-d7dd-49a5-a0f4-ff4ef8451a26",
   "metadata": {},
   "outputs": [],
   "source": [
    "file_name = os.listdir(path)"
   ]
  },
  {
   "cell_type": "code",
   "execution_count": 14,
   "id": "735f7c77-168a-45bf-85bf-f10ceae07a2f",
   "metadata": {},
   "outputs": [
    {
     "name": "stdout",
     "output_type": "stream",
     "text": [
      "D:/Programming/Alex The Analyst/Python/Automated File Sorter/csv\n",
      "D:/Programming/Alex The Analyst/Python/Automated File Sorter/image\n",
      "D:/Programming/Alex The Analyst/Python/Automated File Sorter/text\n"
     ]
    }
   ],
   "source": [
    "import os, shutil\n",
    "\n",
    "path = r\"D:/Programming/Alex The Analyst/Python/Automated File Sorter/\"\n",
    "\n",
    "file_name = os.listdir(path)\n",
    "\n",
    "folder_names = ['csv','image','text']\n",
    "for loop in range(0,3):\n",
    "    if not (os.path.exists(path + folder_names[loop])):\n",
    "        os.makedirs(path + folder_names[loop])\n",
    "        print(path + folder_names[loop])\n",
    "\n",
    "for file in file_name:\n",
    "    if ('.csv' in file) and (not os.path.exists(path + 'csv/' + file)):\n",
    "        shutil.move(path + file, path + 'csv/' + file)\n",
    "    elif ('.jpg' in file) and (not os.path.exists(path + 'image/' + file)):\n",
    "        shutil.move(path + file, path + 'image/' + file)\n",
    "    elif ('.txt' in file) and (not os.path.exists(path + 'text/' + file)):\n",
    "        shutil.move(path + file, path + 'text/' + file)"
   ]
  },
  {
   "cell_type": "code",
   "execution_count": 13,
   "id": "23aeac90-f722-448d-a02c-554847f16502",
   "metadata": {},
   "outputs": [],
   "source": []
  },
  {
   "cell_type": "code",
   "execution_count": null,
   "id": "af4d7645-4a43-493c-8840-dc2151b257eb",
   "metadata": {},
   "outputs": [],
   "source": []
  },
  {
   "cell_type": "code",
   "execution_count": null,
   "id": "2f0f5293-57b1-49ef-ae76-7740ee6d3ac9",
   "metadata": {},
   "outputs": [],
   "source": []
  }
 ],
 "metadata": {
  "kernelspec": {
   "display_name": "Python 3 (ipykernel)",
   "language": "python",
   "name": "python3"
  },
  "language_info": {
   "codemirror_mode": {
    "name": "ipython",
    "version": 3
   },
   "file_extension": ".py",
   "mimetype": "text/x-python",
   "name": "python",
   "nbconvert_exporter": "python",
   "pygments_lexer": "ipython3",
   "version": "3.11.7"
  }
 },
 "nbformat": 4,
 "nbformat_minor": 5
}
